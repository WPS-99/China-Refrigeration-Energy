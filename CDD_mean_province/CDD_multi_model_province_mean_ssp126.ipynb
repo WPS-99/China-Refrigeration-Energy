{
 "cells": [
  {
   "cell_type": "code",
   "execution_count": 1,
   "id": "287e1d59",
   "metadata": {},
   "outputs": [],
   "source": [
    "import geopandas as gpd\n",
    "import xarray as xr\n",
    "import numpy as np\n",
    "import pandas as pd\n",
    "import rasterio.features\n",
    "from affine import Affine"
   ]
  },
  {
   "cell_type": "code",
   "execution_count": null,
   "id": "62cbdcb2",
   "metadata": {},
   "outputs": [],
   "source": [
    "# Reading Data\n",
    "gdf = gpd.read_file(\"C://Users//27784//cooling degree days-2025-2-10//tas_day_AWI-CM-1-1-MR_ssp126//国界和省级分界//省级//2024年省级.shp\")\n",
    "nc_data = xr.open_dataset(\"C://Users//27784//HDD CDD 20250421//HDD CDD_year_multi_model_mean//CDD_multi_model_mean_ssp126.nc\")\n",
    "cdd = nc_data['CDD_mean']"
   ]
  },
  {
   "cell_type": "code",
   "execution_count": null,
   "id": "6ee7a61a",
   "metadata": {},
   "outputs": [],
   "source": [
    "# Generate mask\n",
    "lon = cdd.lon.values\n",
    "lat = cdd.lat.values\n",
    "dx = (lon[-1] - lon[0]) / (len(lon) - 1)\n",
    "dy = (lat[-1] - lat[0]) / (len(lat) - 1)\n",
    "transform = Affine.translation(lon[0] - dx/2, lat[0] - dy/2) * Affine.scale(dx, dy)\n",
    "\n",
    "masks = []\n",
    "for geom in gdf.geometry:\n",
    "    mask = rasterio.features.rasterize(\n",
    "        [(geom, 1)],\n",
    "        out_shape=(len(lat), len(lon)),\n",
    "        transform=transform,\n",
    "        fill=0,\n",
    "        dtype=np.uint8,\n",
    "        all_touched=True\n",
    "    )\n",
    "    masks.append(mask.astype(bool))"
   ]
  },
  {
   "cell_type": "code",
   "execution_count": null,
   "id": "f631c4f2",
   "metadata": {},
   "outputs": [],
   "source": [
    "# Calculate the mean value\n",
    "mask_da = xr.DataArray(np.stack(masks), dims=('province', 'lat', 'lon'), coords={'province': gdf.index})\n",
    "cdd_masked = cdd.where(mask_da)\n",
    "cdd_means = cdd_masked.mean(dim=['lat', 'lon'], skipna=True)\n"
   ]
  },
  {
   "cell_type": "code",
   "execution_count": null,
   "id": "c3f56f30",
   "metadata": {},
   "outputs": [],
   "source": [
    "# ---------------------Generate CSV file--------------------\n",
    "# ---------------------------------------------\n",
    "\n",
    "# Define the half-width of the neighborhood window (e.g., half-width=2 means 2 years before and after, totaling 5 years)\n",
    "window_half_width = 5  # Can be adjusted according to requirements\n",
    "\n",
    "# Create a list of target years (every 5 years, e.g., 2015, 2020, ..., 2100)\n",
    "target_years = range(2015, 2101, 5)\n",
    "\n",
    "# Create an empty DataFrame with initial column containing province names\n",
    "df_all_years = pd.DataFrame({'province': gdf['ENG_NAME']})\n",
    "\n",
    "# Loop through each target year\n",
    "for year in target_years:\n",
    "    # Calculate the start and end years of the window (considering data boundaries)\n",
    "    start_year = max(year - window_half_width, cdd_means['year'].min().item())\n",
    "    end_year = min(year + window_half_width, cdd_means['year'].max().item())\n",
    "    \n",
    "    # Extract all CDD data within the window\n",
    "    cdd_window = cdd_means.sel(year=slice(start_year, end_year))\n",
    "    \n",
    "    # Calculate the mean within the window (along the time dimension)\n",
    "    cdd_mean = cdd_window.mean(dim='year')\n",
    "    \n",
    "    # Add the result to the DataFrame\n",
    "    df_all_years[f'{year}'] = cdd_mean.values\n",
    "\n",
    "# --- Sort by the specified province order ---\n",
    "# Define the province order\n",
    "province_order = [\n",
    "    'Anhui', 'Beijing', 'Chongqing', 'Fujian', 'Guangdong', \n",
    "    'Gansu', 'Guangxi', 'Guizhou', 'Henan', 'Hubei', \n",
    "    'Hebei', 'Hainan', 'Heilongjiang', 'Hunan', 'Jilin', \n",
    "    'Jiangsu', 'Jiangxi', 'Liaoning', 'Neimenggu', 'Ningxia', \n",
    "    'Qinghai', 'Sichuan', 'Shandong', 'Shanghai', 'Shaanxi', \n",
    "    'Shanxi', 'Tianjin', 'Xinjiang', 'Xizang', 'Yunnan', \n",
    "    'Zhejiang'\n",
    "]\n",
    "\n",
    "# Convert the province column to categorical type (sorted by the specified order)\n",
    "df_all_years['province'] = pd.Categorical(\n",
    "    df_all_years['province'], \n",
    "    categories=province_order, \n",
    "    ordered=True\n",
    ")\n",
    "\n",
    "# Sort by province and reset the index\n",
    "df_sorted = df_all_years.sort_values('province').reset_index(drop=True)\n",
    "\n",
    "# --- Save as CSV file ---\n",
    "df_sorted.to_csv('CDD_multi_model_province_mean_ssp126.csv', index=False, encoding='utf-8-sig')\n"
   ]
  },
  {
   "cell_type": "code",
   "execution_count": null,
   "id": "04288190",
   "metadata": {},
   "outputs": [],
   "source": []
  }
 ],
 "metadata": {
  "kernelspec": {
   "display_name": "Python 3 (ipykernel)",
   "language": "python",
   "name": "python3"
  },
  "language_info": {
   "codemirror_mode": {
    "name": "ipython",
    "version": 3
   },
   "file_extension": ".py",
   "mimetype": "text/x-python",
   "name": "python",
   "nbconvert_exporter": "python",
   "pygments_lexer": "ipython3",
   "version": "3.9.7"
  }
 },
 "nbformat": 4,
 "nbformat_minor": 5
}
